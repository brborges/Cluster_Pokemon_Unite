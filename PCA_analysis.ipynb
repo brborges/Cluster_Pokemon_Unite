{
 "cells": [
  {
   "cell_type": "markdown",
   "metadata": {},
   "source": [
    "# Principal Component Analysis (PCA) - Pokemon Unite\n",
    "\n",
    "Author: Bruno Borges Dec, 2023 \n",
    "\n",
    "\n",
    "### Context:\n",
    "\n",
    "Pokemon Unite is a new MOBA(Multiplayer Online Battle Arena) released for Mobile and Nintendo Switch. The game became instantly popular after its initial release on Nintendo Switch but it has grown even more after being released on Mobile devices and even won game of the year on play store in US region and several other awards in different categories in several other regions in the annual Google Play Awards 2021.\n",
    "\n",
    "\n",
    "### Goal:\n",
    "\n",
    "Perform a cluster analysis using a dataframe from the Pokemon Unite game. The end goal is to explore different approaches such as Hierarchical and Non-Hierarchical clustering analysis. \n",
    "\n",
    "\n",
    "### Dataset:\n",
    "\n",
    "The data is collected from the official Pokemon Unite website : https://unite.pokemon.com/en-us/ and processed and cleaned by [Shashanka Shekhar](https://www.kaggle.com/vishushekhar). It has all the information about every pokemon released in the game till Oct, 8th, 2023. \n",
    "\n",
    "* Name: Name of the Pokemon.\n",
    "* Description: Description of the pokemon.\n",
    "* Role: Role of the pokemon in the game.\n",
    "* Ranged_or_Melee: Whether the attacks of the pokemon are ranged or close\n",
    "* UsageDifficulty: How easy is to fully utilize the moves to make most out of the pokemon.\n",
    "* Offense: Offense stat of the pokemon out of 5.0\n",
    "* Endurance: Endurance stat of the pokemon out of 5.0\n",
    "* Mobility: Mobility stat of the pokemon out of 5.0\n",
    "* Scoring: Scoring stat of the pokemon out of 5.0\n",
    "* Support: Support stat of the pokemon out of 5.0"
   ]
  },
  {
   "cell_type": "markdown",
   "metadata": {},
   "source": [
    "## Importing packages"
   ]
  },
  {
   "cell_type": "code",
   "execution_count": 67,
   "metadata": {},
   "outputs": [],
   "source": [
    "import pandas as pd\n",
    "from factor_analyzer import FactorAnalyzer\n",
    "from factor_analyzer.factor_analyzer import calculate_bartlett_sphericity\n",
    "from factor_analyzer.factor_analyzer import calculate_kmo\n",
    "import pingouin as pg\n",
    "import seaborn as sns\n",
    "import numpy as np\n",
    "import matplotlib.pyplot as plt"
   ]
  },
  {
   "cell_type": "markdown",
   "metadata": {},
   "source": [
    "## Loading Data"
   ]
  },
  {
   "cell_type": "code",
   "execution_count": 68,
   "metadata": {},
   "outputs": [],
   "source": [
    "#loading data from csv file\n",
    "df_main = pd.read_csv(\"data-raw/PokemonUniteData.csv\")"
   ]
  },
  {
   "cell_type": "code",
   "execution_count": 69,
   "metadata": {},
   "outputs": [
    {
     "name": "stdout",
     "output_type": "stream",
     "text": [
      "<class 'pandas.core.frame.DataFrame'>\n",
      "RangeIndex: 61 entries, 0 to 60\n",
      "Data columns (total 10 columns):\n",
      " #   Column           Non-Null Count  Dtype  \n",
      "---  ------           --------------  -----  \n",
      " 0   Name             61 non-null     object \n",
      " 1   Description      61 non-null     object \n",
      " 2   Role             61 non-null     object \n",
      " 3   Ranged_or_Melee  61 non-null     object \n",
      " 4   UsageDifficulty  61 non-null     object \n",
      " 5   Offense          61 non-null     float64\n",
      " 6   Endurance        61 non-null     float64\n",
      " 7   Mobility         61 non-null     float64\n",
      " 8   Scoring          61 non-null     float64\n",
      " 9   Support          61 non-null     float64\n",
      "dtypes: float64(5), object(5)\n",
      "memory usage: 4.9+ KB\n"
     ]
    }
   ],
   "source": [
    "df_main.info()"
   ]
  },
  {
   "cell_type": "code",
   "execution_count": 70,
   "metadata": {},
   "outputs": [
    {
     "data": {
      "text/html": [
       "<div>\n",
       "<style scoped>\n",
       "    .dataframe tbody tr th:only-of-type {\n",
       "        vertical-align: middle;\n",
       "    }\n",
       "\n",
       "    .dataframe tbody tr th {\n",
       "        vertical-align: top;\n",
       "    }\n",
       "\n",
       "    .dataframe thead th {\n",
       "        text-align: right;\n",
       "    }\n",
       "</style>\n",
       "<table border=\"1\" class=\"dataframe\">\n",
       "  <thead>\n",
       "    <tr style=\"text-align: right;\">\n",
       "      <th></th>\n",
       "      <th>Offense</th>\n",
       "      <th>Endurance</th>\n",
       "      <th>Mobility</th>\n",
       "      <th>Scoring</th>\n",
       "      <th>Support</th>\n",
       "    </tr>\n",
       "  </thead>\n",
       "  <tbody>\n",
       "    <tr>\n",
       "      <th>count</th>\n",
       "      <td>61.000000</td>\n",
       "      <td>61.000000</td>\n",
       "      <td>61.000000</td>\n",
       "      <td>61.000000</td>\n",
       "      <td>61.000000</td>\n",
       "    </tr>\n",
       "    <tr>\n",
       "      <th>mean</th>\n",
       "      <td>3.311475</td>\n",
       "      <td>2.622951</td>\n",
       "      <td>2.639344</td>\n",
       "      <td>2.196721</td>\n",
       "      <td>1.852459</td>\n",
       "    </tr>\n",
       "    <tr>\n",
       "      <th>std</th>\n",
       "      <td>1.096068</td>\n",
       "      <td>0.942761</td>\n",
       "      <td>0.931536</td>\n",
       "      <td>0.708747</td>\n",
       "      <td>1.382462</td>\n",
       "    </tr>\n",
       "    <tr>\n",
       "      <th>min</th>\n",
       "      <td>1.000000</td>\n",
       "      <td>1.000000</td>\n",
       "      <td>1.000000</td>\n",
       "      <td>1.000000</td>\n",
       "      <td>0.500000</td>\n",
       "    </tr>\n",
       "    <tr>\n",
       "      <th>25%</th>\n",
       "      <td>2.500000</td>\n",
       "      <td>2.000000</td>\n",
       "      <td>2.000000</td>\n",
       "      <td>1.500000</td>\n",
       "      <td>0.500000</td>\n",
       "    </tr>\n",
       "    <tr>\n",
       "      <th>50%</th>\n",
       "      <td>3.500000</td>\n",
       "      <td>2.500000</td>\n",
       "      <td>2.500000</td>\n",
       "      <td>2.000000</td>\n",
       "      <td>1.500000</td>\n",
       "    </tr>\n",
       "    <tr>\n",
       "      <th>75%</th>\n",
       "      <td>4.000000</td>\n",
       "      <td>3.500000</td>\n",
       "      <td>3.000000</td>\n",
       "      <td>2.500000</td>\n",
       "      <td>3.000000</td>\n",
       "    </tr>\n",
       "    <tr>\n",
       "      <th>max</th>\n",
       "      <td>5.000000</td>\n",
       "      <td>5.000000</td>\n",
       "      <td>5.000000</td>\n",
       "      <td>4.000000</td>\n",
       "      <td>4.500000</td>\n",
       "    </tr>\n",
       "  </tbody>\n",
       "</table>\n",
       "</div>"
      ],
      "text/plain": [
       "         Offense  Endurance   Mobility    Scoring    Support\n",
       "count  61.000000  61.000000  61.000000  61.000000  61.000000\n",
       "mean    3.311475   2.622951   2.639344   2.196721   1.852459\n",
       "std     1.096068   0.942761   0.931536   0.708747   1.382462\n",
       "min     1.000000   1.000000   1.000000   1.000000   0.500000\n",
       "25%     2.500000   2.000000   2.000000   1.500000   0.500000\n",
       "50%     3.500000   2.500000   2.500000   2.000000   1.500000\n",
       "75%     4.000000   3.500000   3.000000   2.500000   3.000000\n",
       "max     5.000000   5.000000   5.000000   4.000000   4.500000"
      ]
     },
     "execution_count": 70,
     "metadata": {},
     "output_type": "execute_result"
    }
   ],
   "source": [
    "df_main.describe()"
   ]
  },
  {
   "cell_type": "markdown",
   "metadata": {},
   "source": [
    "## EDA"
   ]
  },
  {
   "cell_type": "code",
   "execution_count": 71,
   "metadata": {},
   "outputs": [],
   "source": [
    "# skiping this phase for now"
   ]
  },
  {
   "cell_type": "markdown",
   "metadata": {},
   "source": [
    "## Principal Component Analysis"
   ]
  },
  {
   "cell_type": "markdown",
   "metadata": {},
   "source": [
    "#### Correlation Analysis"
   ]
  },
  {
   "cell_type": "code",
   "execution_count": 72,
   "metadata": {},
   "outputs": [
    {
     "data": {
      "text/html": [
       "<div>\n",
       "<style scoped>\n",
       "    .dataframe tbody tr th:only-of-type {\n",
       "        vertical-align: middle;\n",
       "    }\n",
       "\n",
       "    .dataframe tbody tr th {\n",
       "        vertical-align: top;\n",
       "    }\n",
       "\n",
       "    .dataframe thead th {\n",
       "        text-align: right;\n",
       "    }\n",
       "</style>\n",
       "<table border=\"1\" class=\"dataframe\">\n",
       "  <thead>\n",
       "    <tr style=\"text-align: right;\">\n",
       "      <th></th>\n",
       "      <th>Offense</th>\n",
       "      <th>Endurance</th>\n",
       "      <th>Mobility</th>\n",
       "      <th>Scoring</th>\n",
       "      <th>Support</th>\n",
       "    </tr>\n",
       "  </thead>\n",
       "  <tbody>\n",
       "    <tr>\n",
       "      <th>0</th>\n",
       "      <td>4.0</td>\n",
       "      <td>2.5</td>\n",
       "      <td>3.5</td>\n",
       "      <td>1.0</td>\n",
       "      <td>1.0</td>\n",
       "    </tr>\n",
       "    <tr>\n",
       "      <th>1</th>\n",
       "      <td>4.0</td>\n",
       "      <td>2.5</td>\n",
       "      <td>4.0</td>\n",
       "      <td>1.0</td>\n",
       "      <td>0.5</td>\n",
       "    </tr>\n",
       "    <tr>\n",
       "      <th>2</th>\n",
       "      <td>3.0</td>\n",
       "      <td>3.0</td>\n",
       "      <td>2.5</td>\n",
       "      <td>2.0</td>\n",
       "      <td>2.0</td>\n",
       "    </tr>\n",
       "    <tr>\n",
       "      <th>3</th>\n",
       "      <td>4.0</td>\n",
       "      <td>4.0</td>\n",
       "      <td>3.0</td>\n",
       "      <td>2.0</td>\n",
       "      <td>2.0</td>\n",
       "    </tr>\n",
       "    <tr>\n",
       "      <th>4</th>\n",
       "      <td>5.0</td>\n",
       "      <td>3.0</td>\n",
       "      <td>3.5</td>\n",
       "      <td>2.0</td>\n",
       "      <td>2.0</td>\n",
       "    </tr>\n",
       "    <tr>\n",
       "      <th>...</th>\n",
       "      <td>...</td>\n",
       "      <td>...</td>\n",
       "      <td>...</td>\n",
       "      <td>...</td>\n",
       "      <td>...</td>\n",
       "    </tr>\n",
       "    <tr>\n",
       "      <th>56</th>\n",
       "      <td>4.0</td>\n",
       "      <td>1.5</td>\n",
       "      <td>1.5</td>\n",
       "      <td>2.5</td>\n",
       "      <td>3.0</td>\n",
       "    </tr>\n",
       "    <tr>\n",
       "      <th>57</th>\n",
       "      <td>4.0</td>\n",
       "      <td>3.0</td>\n",
       "      <td>3.0</td>\n",
       "      <td>1.5</td>\n",
       "      <td>1.0</td>\n",
       "    </tr>\n",
       "    <tr>\n",
       "      <th>58</th>\n",
       "      <td>3.5</td>\n",
       "      <td>2.0</td>\n",
       "      <td>4.0</td>\n",
       "      <td>3.0</td>\n",
       "      <td>0.5</td>\n",
       "    </tr>\n",
       "    <tr>\n",
       "      <th>59</th>\n",
       "      <td>3.5</td>\n",
       "      <td>3.5</td>\n",
       "      <td>2.5</td>\n",
       "      <td>2.5</td>\n",
       "      <td>0.5</td>\n",
       "    </tr>\n",
       "    <tr>\n",
       "      <th>60</th>\n",
       "      <td>4.0</td>\n",
       "      <td>1.5</td>\n",
       "      <td>3.0</td>\n",
       "      <td>2.5</td>\n",
       "      <td>0.5</td>\n",
       "    </tr>\n",
       "  </tbody>\n",
       "</table>\n",
       "<p>61 rows × 5 columns</p>\n",
       "</div>"
      ],
      "text/plain": [
       "    Offense  Endurance  Mobility  Scoring  Support\n",
       "0       4.0        2.5       3.5      1.0      1.0\n",
       "1       4.0        2.5       4.0      1.0      0.5\n",
       "2       3.0        3.0       2.5      2.0      2.0\n",
       "3       4.0        4.0       3.0      2.0      2.0\n",
       "4       5.0        3.0       3.5      2.0      2.0\n",
       "..      ...        ...       ...      ...      ...\n",
       "56      4.0        1.5       1.5      2.5      3.0\n",
       "57      4.0        3.0       3.0      1.5      1.0\n",
       "58      3.5        2.0       4.0      3.0      0.5\n",
       "59      3.5        3.5       2.5      2.5      0.5\n",
       "60      4.0        1.5       3.0      2.5      0.5\n",
       "\n",
       "[61 rows x 5 columns]"
      ]
     },
     "execution_count": 72,
     "metadata": {},
     "output_type": "execute_result"
    }
   ],
   "source": [
    "# separating only numerical variables\n",
    "df_pca = df_main[['Offense', 'Endurance', 'Mobility', 'Scoring', 'Support']]\n",
    "df_pca"
   ]
  },
  {
   "cell_type": "code",
   "execution_count": 73,
   "metadata": {},
   "outputs": [
    {
     "name": "stdout",
     "output_type": "stream",
     "text": [
      "           Offense Endurance Mobility Scoring Support\n",
      "Offense          -       ***      ***             ***\n",
      "Endurance   -0.453         -       **     ***      **\n",
      "Mobility    0.3281   -0.2998        -             ***\n",
      "Scoring      0.011    -0.386    0.185       -        \n",
      "Support    -0.6209    0.2667  -0.6826  -0.191       -\n"
     ]
    },
    {
     "name": "stderr",
     "output_type": "stream",
     "text": [
      "c:\\Users\\bruno\\AppData\\Local\\Programs\\Python\\Python312\\Lib\\site-packages\\pingouin\\correlation.py:1111: FutureWarning: DataFrame.applymap has been deprecated. Use DataFrame.map instead.\n",
      "  mat_upper = mat_upper.applymap(replace_pval)\n"
     ]
    }
   ],
   "source": [
    "# correlation matrix\n",
    "matriz_corr = pg.rcorr(\n",
    "                    df_pca,\n",
    "                    method = 'pearson',\n",
    "                    upper = 'pval',\n",
    "                    decimals = 4,\n",
    "                    pval_stars = {0.01: '***', 0.05: '**', 0.10: '*'}\n",
    "                )\n",
    "print(matriz_corr)"
   ]
  },
  {
   "cell_type": "code",
   "execution_count": 74,
   "metadata": {},
   "outputs": [
    {
     "data": {
      "image/png": "[encoded data removed]",
      "text/plain": [
       "<Figure size 1000x800 with 2 Axes>"
      ]
     },
     "metadata": {},
     "output_type": "display_data"
    }
   ],
   "source": [
    "# plotting correlation matrix\n",
    "corr = df_pca.corr()\n",
    "\n",
    "f, ax = plt.subplots(figsize=(10, 8))\n",
    "\n",
    "mask = np.triu(np.ones_like(corr, dtype=bool))\n",
    "\n",
    "cmap = sns.diverging_palette(230, 20, n=256, as_cmap=True)\n",
    "\n",
    "sns.heatmap(df_pca.corr(), \n",
    "            mask=mask, \n",
    "            cmap=cmap, \n",
    "            vmax=1, \n",
    "            vmin = -.25,\n",
    "            center=0,\n",
    "            square=True, \n",
    "            linewidths=.5,\n",
    "            annot = True,\n",
    "            fmt='.3f', \n",
    "            annot_kws={'size': 16},\n",
    "            cbar_kws={\"shrink\": .75})\n",
    "\n",
    "plt.title('Correlation Matrix')\n",
    "plt.tight_layout()\n",
    "ax.tick_params(axis = 'x', labelsize = 14)\n",
    "ax.tick_params(axis = 'y', labelsize = 14)\n",
    "ax.set_ylim(len(corr))\n",
    "\n",
    "plt.show()"
   ]
  },
  {
   "cell_type": "markdown",
   "metadata": {},
   "source": [
    "#### Statistics Tests"
   ]
  },
  {
   "cell_type": "code",
   "execution_count": 75,
   "metadata": {},
   "outputs": [
    {
     "name": "stdout",
     "output_type": "stream",
     "text": [
      "Bartlett statistic: 98.9439493194566\n",
      "p-value : 8.86407864274904e-17\n"
     ]
    }
   ],
   "source": [
    "# Bartlett Sphericity\n",
    "bartlett, p_value = calculate_bartlett_sphericity(df_pca)\n",
    "\n",
    "print(f'Bartlett statistic: {bartlett}')\n",
    "\n",
    "print(f'p-value : {p_value}')"
   ]
  },
  {
   "cell_type": "code",
   "execution_count": 76,
   "metadata": {},
   "outputs": [
    {
     "name": "stdout",
     "output_type": "stream",
     "text": [
      "kmo_model : 0.48501094811477585\n"
     ]
    }
   ],
   "source": [
    "# KMO Stats\n",
    "kmo_all, kmo_model = calculate_kmo(df_pca)\n",
    "\n",
    "print(f'kmo_model : {kmo_model}')\n",
    "\n"
   ]
  },
  {
   "cell_type": "markdown",
   "metadata": {},
   "source": [
    "#### Pre-Modeling"
   ]
  },
  {
   "cell_type": "code",
   "execution_count": 77,
   "metadata": {},
   "outputs": [
    {
     "data": {
      "text/html": [
       "<style>#sk-container-id-4 {color: black;}#sk-container-id-4 pre{padding: 0;}#sk-container-id-4 div.sk-toggleable {background-color: white;}#sk-container-id-4 label.sk-toggleable__label {cursor: pointer;display: block;width: 100%;margin-bottom: 0;padding: 0.3em;box-sizing: border-box;text-align: center;}#sk-container-id-4 label.sk-toggleable__label-arrow:before {content: \"▸\";float: left;margin-right: 0.25em;color: #696969;}#sk-container-id-4 label.sk-toggleable__label-arrow:hover:before {color: black;}#sk-container-id-4 div.sk-estimator:hover label.sk-toggleable__label-arrow:before {color: black;}#sk-container-id-4 div.sk-toggleable__content {max-height: 0;max-width: 0;overflow: hidden;text-align: left;background-color: #f0f8ff;}#sk-container-id-4 div.sk-toggleable__content pre {margin: 0.2em;color: black;border-radius: 0.25em;background-color: #f0f8ff;}#sk-container-id-4 input.sk-toggleable__control:checked~div.sk-toggleable__content {max-height: 200px;max-width: 100%;overflow: auto;}#sk-container-id-4 input.sk-toggleable__control:checked~label.sk-toggleable__label-arrow:before {content: \"▾\";}#sk-container-id-4 div.sk-estimator input.sk-toggleable__control:checked~label.sk-toggleable__label {background-color: #d4ebff;}#sk-container-id-4 div.sk-label input.sk-toggleable__control:checked~label.sk-toggleable__label {background-color: #d4ebff;}#sk-container-id-4 input.sk-hidden--visually {border: 0;clip: rect(1px 1px 1px 1px);clip: rect(1px, 1px, 1px, 1px);height: 1px;margin: -1px;overflow: hidden;padding: 0;position: absolute;width: 1px;}#sk-container-id-4 div.sk-estimator {font-family: monospace;background-color: #f0f8ff;border: 1px dotted black;border-radius: 0.25em;box-sizing: border-box;margin-bottom: 0.5em;}#sk-container-id-4 div.sk-estimator:hover {background-color: #d4ebff;}#sk-container-id-4 div.sk-parallel-item::after {content: \"\";width: 100%;border-bottom: 1px solid gray;flex-grow: 1;}#sk-container-id-4 div.sk-label:hover label.sk-toggleable__label {background-color: #d4ebff;}#sk-container-id-4 div.sk-serial::before {content: \"\";position: absolute;border-left: 1px solid gray;box-sizing: border-box;top: 0;bottom: 0;left: 50%;z-index: 0;}#sk-container-id-4 div.sk-serial {display: flex;flex-direction: column;align-items: center;background-color: white;padding-right: 0.2em;padding-left: 0.2em;position: relative;}#sk-container-id-4 div.sk-item {position: relative;z-index: 1;}#sk-container-id-4 div.sk-parallel {display: flex;align-items: stretch;justify-content: center;background-color: white;position: relative;}#sk-container-id-4 div.sk-item::before, #sk-container-id-4 div.sk-parallel-item::before {content: \"\";position: absolute;border-left: 1px solid gray;box-sizing: border-box;top: 0;bottom: 0;left: 50%;z-index: -1;}#sk-container-id-4 div.sk-parallel-item {display: flex;flex-direction: column;z-index: 1;position: relative;background-color: white;}#sk-container-id-4 div.sk-parallel-item:first-child::after {align-self: flex-end;width: 50%;}#sk-container-id-4 div.sk-parallel-item:last-child::after {align-self: flex-start;width: 50%;}#sk-container-id-4 div.sk-parallel-item:only-child::after {width: 0;}#sk-container-id-4 div.sk-dashed-wrapped {border: 1px dashed gray;margin: 0 0.4em 0.5em 0.4em;box-sizing: border-box;padding-bottom: 0.4em;background-color: white;}#sk-container-id-4 div.sk-label label {font-family: monospace;font-weight: bold;display: inline-block;line-height: 1.2em;}#sk-container-id-4 div.sk-label-container {text-align: center;}#sk-container-id-4 div.sk-container {/* jupyter's `normalize.less` sets `[hidden] { display: none; }` but bootstrap.min.css set `[hidden] { display: none !important; }` so we also need the `!important` here to be able to override the default hidden behavior on the sphinx rendered scikit-learn.org. See: https://github.com/scikit-learn/scikit-learn/issues/21755 */display: inline-block !important;position: relative;}#sk-container-id-4 div.sk-text-repr-fallback {display: none;}</style><div id=\"sk-container-id-4\" class=\"sk-top-container\"><div class=\"sk-text-repr-fallback\"><pre>FactorAnalyzer(rotation_kwargs={})</pre><b>In a Jupyter environment, please rerun this cell to show the HTML representation or trust the notebook. <br />On GitHub, the HTML representation is unable to render, please try loading this page with nbviewer.org.</b></div><div class=\"sk-container\" hidden><div class=\"sk-item\"><div class=\"sk-estimator sk-toggleable\"><input class=\"sk-toggleable__control sk-hidden--visually\" id=\"sk-estimator-id-4\" type=\"checkbox\" checked><label for=\"sk-estimator-id-4\" class=\"sk-toggleable__label sk-toggleable__label-arrow\">FactorAnalyzer</label><div class=\"sk-toggleable__content\"><pre>FactorAnalyzer(rotation_kwargs={})</pre></div></div></div></div></div>"
      ],
      "text/plain": [
       "FactorAnalyzer(rotation_kwargs={})"
      ]
     },
     "execution_count": 77,
     "metadata": {},
     "output_type": "execute_result"
    }
   ],
   "source": [
    "# preliminary process\n",
    "fa = FactorAnalyzer()\n",
    "fa.fit(df_pca)"
   ]
  },
  {
   "cell_type": "code",
   "execution_count": 78,
   "metadata": {},
   "outputs": [
    {
     "name": "stdout",
     "output_type": "stream",
     "text": [
      "[2.44374191 1.10019756 0.80779528 0.47471751 0.17354774]\n"
     ]
    }
   ],
   "source": [
    "# eigenvalues\n",
    "ev, v = fa.get_eigenvalues()\n",
    "print(ev)\n"
   ]
  },
  {
   "cell_type": "code",
   "execution_count": 79,
   "metadata": {},
   "outputs": [
    {
     "data": {
      "text/html": [
       "<style>#sk-container-id-5 {color: black;}#sk-container-id-5 pre{padding: 0;}#sk-container-id-5 div.sk-toggleable {background-color: white;}#sk-container-id-5 label.sk-toggleable__label {cursor: pointer;display: block;width: 100%;margin-bottom: 0;padding: 0.3em;box-sizing: border-box;text-align: center;}#sk-container-id-5 label.sk-toggleable__label-arrow:before {content: \"▸\";float: left;margin-right: 0.25em;color: #696969;}#sk-container-id-5 label.sk-toggleable__label-arrow:hover:before {color: black;}#sk-container-id-5 div.sk-estimator:hover label.sk-toggleable__label-arrow:before {color: black;}#sk-container-id-5 div.sk-toggleable__content {max-height: 0;max-width: 0;overflow: hidden;text-align: left;background-color: #f0f8ff;}#sk-container-id-5 div.sk-toggleable__content pre {margin: 0.2em;color: black;border-radius: 0.25em;background-color: #f0f8ff;}#sk-container-id-5 input.sk-toggleable__control:checked~div.sk-toggleable__content {max-height: 200px;max-width: 100%;overflow: auto;}#sk-container-id-5 input.sk-toggleable__control:checked~label.sk-toggleable__label-arrow:before {content: \"▾\";}#sk-container-id-5 div.sk-estimator input.sk-toggleable__control:checked~label.sk-toggleable__label {background-color: #d4ebff;}#sk-container-id-5 div.sk-label input.sk-toggleable__control:checked~label.sk-toggleable__label {background-color: #d4ebff;}#sk-container-id-5 input.sk-hidden--visually {border: 0;clip: rect(1px 1px 1px 1px);clip: rect(1px, 1px, 1px, 1px);height: 1px;margin: -1px;overflow: hidden;padding: 0;position: absolute;width: 1px;}#sk-container-id-5 div.sk-estimator {font-family: monospace;background-color: #f0f8ff;border: 1px dotted black;border-radius: 0.25em;box-sizing: border-box;margin-bottom: 0.5em;}#sk-container-id-5 div.sk-estimator:hover {background-color: #d4ebff;}#sk-container-id-5 div.sk-parallel-item::after {content: \"\";width: 100%;border-bottom: 1px solid gray;flex-grow: 1;}#sk-container-id-5 div.sk-label:hover label.sk-toggleable__label {background-color: #d4ebff;}#sk-container-id-5 div.sk-serial::before {content: \"\";position: absolute;border-left: 1px solid gray;box-sizing: border-box;top: 0;bottom: 0;left: 50%;z-index: 0;}#sk-container-id-5 div.sk-serial {display: flex;flex-direction: column;align-items: center;background-color: white;padding-right: 0.2em;padding-left: 0.2em;position: relative;}#sk-container-id-5 div.sk-item {position: relative;z-index: 1;}#sk-container-id-5 div.sk-parallel {display: flex;align-items: stretch;justify-content: center;background-color: white;position: relative;}#sk-container-id-5 div.sk-item::before, #sk-container-id-5 div.sk-parallel-item::before {content: \"\";position: absolute;border-left: 1px solid gray;box-sizing: border-box;top: 0;bottom: 0;left: 50%;z-index: -1;}#sk-container-id-5 div.sk-parallel-item {display: flex;flex-direction: column;z-index: 1;position: relative;background-color: white;}#sk-container-id-5 div.sk-parallel-item:first-child::after {align-self: flex-end;width: 50%;}#sk-container-id-5 div.sk-parallel-item:last-child::after {align-self: flex-start;width: 50%;}#sk-container-id-5 div.sk-parallel-item:only-child::after {width: 0;}#sk-container-id-5 div.sk-dashed-wrapped {border: 1px dashed gray;margin: 0 0.4em 0.5em 0.4em;box-sizing: border-box;padding-bottom: 0.4em;background-color: white;}#sk-container-id-5 div.sk-label label {font-family: monospace;font-weight: bold;display: inline-block;line-height: 1.2em;}#sk-container-id-5 div.sk-label-container {text-align: center;}#sk-container-id-5 div.sk-container {/* jupyter's `normalize.less` sets `[hidden] { display: none; }` but bootstrap.min.css set `[hidden] { display: none !important; }` so we also need the `!important` here to be able to override the default hidden behavior on the sphinx rendered scikit-learn.org. See: https://github.com/scikit-learn/scikit-learn/issues/21755 */display: inline-block !important;position: relative;}#sk-container-id-5 div.sk-text-repr-fallback {display: none;}</style><div id=\"sk-container-id-5\" class=\"sk-top-container\"><div class=\"sk-text-repr-fallback\"><pre>FactorAnalyzer(method=&#x27;principal&#x27;, n_factors=2, rotation=None,\n",
       "               rotation_kwargs={})</pre><b>In a Jupyter environment, please rerun this cell to show the HTML representation or trust the notebook. <br />On GitHub, the HTML representation is unable to render, please try loading this page with nbviewer.org.</b></div><div class=\"sk-container\" hidden><div class=\"sk-item\"><div class=\"sk-estimator sk-toggleable\"><input class=\"sk-toggleable__control sk-hidden--visually\" id=\"sk-estimator-id-5\" type=\"checkbox\" checked><label for=\"sk-estimator-id-5\" class=\"sk-toggleable__label sk-toggleable__label-arrow\">FactorAnalyzer</label><div class=\"sk-toggleable__content\"><pre>FactorAnalyzer(method=&#x27;principal&#x27;, n_factors=2, rotation=None,\n",
       "               rotation_kwargs={})</pre></div></div></div></div></div>"
      ],
      "text/plain": [
       "FactorAnalyzer(method='principal', n_factors=2, rotation=None,\n",
       "               rotation_kwargs={})"
      ]
     },
     "execution_count": 79,
     "metadata": {},
     "output_type": "execute_result"
    }
   ],
   "source": [
    "# Kaiser criteria\n",
    "fa.set_params(\n",
    "    n_factors = 2,\n",
    "    method = 'principal',\n",
    "    rotation = None\n",
    ")\n",
    "\n",
    "fa.fit(df_pca)"
   ]
  },
  {
   "cell_type": "markdown",
   "metadata": {},
   "source": [
    "#### Eigenvalues, Loadings and Commonalities"
   ]
  },
  {
   "cell_type": "code",
   "execution_count": 80,
   "metadata": {},
   "outputs": [
    {
     "name": "stdout",
     "output_type": "stream",
     "text": [
      "          Eigenvalue  Variance  Accumulated Variance\n",
      "Factor 1    2.443742  0.488748              0.488748\n",
      "Factor 2    1.100198  0.220040              0.708788\n"
     ]
    }
   ],
   "source": [
    "# eigenvalues\n",
    "eigen_factors = fa.get_factor_variance()\n",
    "\n",
    "table_eigen = pd.DataFrame(eigen_factors)\n",
    "table_eigen.columns = [f\"Factor {i+1}\" for i, v in enumerate(table_eigen.columns)]\n",
    "table_eigen.index = ['Eigenvalue', 'Variance', 'Accumulated Variance']\n",
    "\n",
    "table_eigen = table_eigen.T\n",
    "print(table_eigen)"
   ]
  },
  {
   "cell_type": "code",
   "execution_count": 81,
   "metadata": {},
   "outputs": [
    {
     "name": "stdout",
     "output_type": "stream",
     "text": [
      "           Factor 1  Factor 2\n",
      "Offense    0.747650 -0.303627\n",
      "Endurance -0.654271 -0.456997\n",
      "Mobility   0.759169 -0.176965\n",
      "Scoring    0.390754  0.822043\n",
      "Support   -0.853032  0.303463\n"
     ]
    }
   ],
   "source": [
    "# factorials loadings\n",
    "fa_loaginds = fa.loadings_\n",
    "\n",
    "table_loadings = pd.DataFrame(fa_loaginds)\n",
    "table_loadings.columns = [f\"Factor {i+1}\" for i, v in enumerate(table_loadings.columns)]\n",
    "table_loadings.index = df_pca.columns\n",
    "\n",
    "print(table_loadings)"
   ]
  },
  {
   "cell_type": "code",
   "execution_count": 82,
   "metadata": {},
   "outputs": [
    {
     "name": "stdout",
     "output_type": "stream",
     "text": [
      "           Commonalities\n",
      "Offense         0.651169\n",
      "Endurance       0.636918\n",
      "Mobility        0.607655\n",
      "Scoring         0.828444\n",
      "Support         0.819754\n"
     ]
    }
   ],
   "source": [
    "# commonalities\n",
    "commonalities = fa.get_communalities()\n",
    "\n",
    "table_commonalities = pd.DataFrame(commonalities)\n",
    "table_commonalities.columns = ['Commonalities']\n",
    "table_commonalities.index = df_pca.columns\n",
    "\n",
    "print(table_commonalities)"
   ]
  },
  {
   "cell_type": "markdown",
   "metadata": {},
   "source": [
    "#### Factorial Scores"
   ]
  },
  {
   "cell_type": "code",
   "execution_count": 83,
   "metadata": {},
   "outputs": [
    {
     "data": {
      "text/html": [
       "<div>\n",
       "<style scoped>\n",
       "    .dataframe tbody tr th:only-of-type {\n",
       "        vertical-align: middle;\n",
       "    }\n",
       "\n",
       "    .dataframe tbody tr th {\n",
       "        vertical-align: top;\n",
       "    }\n",
       "\n",
       "    .dataframe thead th {\n",
       "        text-align: right;\n",
       "    }\n",
       "</style>\n",
       "<table border=\"1\" class=\"dataframe\">\n",
       "  <thead>\n",
       "    <tr style=\"text-align: right;\">\n",
       "      <th></th>\n",
       "      <th>Name</th>\n",
       "      <th>Description</th>\n",
       "      <th>Role</th>\n",
       "      <th>Ranged_or_Melee</th>\n",
       "      <th>UsageDifficulty</th>\n",
       "      <th>Offense</th>\n",
       "      <th>Endurance</th>\n",
       "      <th>Mobility</th>\n",
       "      <th>Scoring</th>\n",
       "      <th>Support</th>\n",
       "      <th>Factor 1</th>\n",
       "      <th>Factor 2</th>\n",
       "    </tr>\n",
       "  </thead>\n",
       "  <tbody>\n",
       "    <tr>\n",
       "      <th>0</th>\n",
       "      <td>Mimikyu</td>\n",
       "      <td>“Creep” it real with a Melee All-Rounder that’...</td>\n",
       "      <td>All-Rounder</td>\n",
       "      <td>Melee</td>\n",
       "      <td>Intermediate</td>\n",
       "      <td>4.0</td>\n",
       "      <td>2.5</td>\n",
       "      <td>3.5</td>\n",
       "      <td>1.0</td>\n",
       "      <td>1.0</td>\n",
       "      <td>0.463189</td>\n",
       "      <td>-1.713596</td>\n",
       "    </tr>\n",
       "    <tr>\n",
       "      <th>1</th>\n",
       "      <td>Blaziken</td>\n",
       "      <td>Get fired up with this Melee All-Rounder that ...</td>\n",
       "      <td>All-Rounder</td>\n",
       "      <td>Melee</td>\n",
       "      <td>Expert</td>\n",
       "      <td>4.0</td>\n",
       "      <td>2.5</td>\n",
       "      <td>4.0</td>\n",
       "      <td>1.0</td>\n",
       "      <td>0.5</td>\n",
       "      <td>0.758615</td>\n",
       "      <td>-1.901234</td>\n",
       "    </tr>\n",
       "    <tr>\n",
       "      <th>2</th>\n",
       "      <td>Mewtwo(Mewtwo)</td>\n",
       "      <td>Showcase the awesome power of Mega Evolution a...</td>\n",
       "      <td>Attacker</td>\n",
       "      <td>Ranged</td>\n",
       "      <td>Novice</td>\n",
       "      <td>3.0</td>\n",
       "      <td>3.0</td>\n",
       "      <td>2.5</td>\n",
       "      <td>2.0</td>\n",
       "      <td>2.0</td>\n",
       "      <td>-0.324799</td>\n",
       "      <td>-0.243597</td>\n",
       "    </tr>\n",
       "    <tr>\n",
       "      <th>3</th>\n",
       "      <td>Mewtwo(Mega Mewtwo X)</td>\n",
       "      <td>Showcase the awesome power of Mega Evolution a...</td>\n",
       "      <td>Attacker</td>\n",
       "      <td>Ranged</td>\n",
       "      <td>Novice</td>\n",
       "      <td>4.0</td>\n",
       "      <td>4.0</td>\n",
       "      <td>3.0</td>\n",
       "      <td>2.0</td>\n",
       "      <td>2.0</td>\n",
       "      <td>-0.161570</td>\n",
       "      <td>-1.028778</td>\n",
       "    </tr>\n",
       "    <tr>\n",
       "      <th>4</th>\n",
       "      <td>Mewtwo(Mega Mewtwo Y)</td>\n",
       "      <td>Showcase the awesome power of Mega Evolution a...</td>\n",
       "      <td>Attacker</td>\n",
       "      <td>Ranged</td>\n",
       "      <td>Novice</td>\n",
       "      <td>5.0</td>\n",
       "      <td>3.0</td>\n",
       "      <td>3.5</td>\n",
       "      <td>2.0</td>\n",
       "      <td>2.0</td>\n",
       "      <td>0.574351</td>\n",
       "      <td>-0.925452</td>\n",
       "    </tr>\n",
       "    <tr>\n",
       "      <th>...</th>\n",
       "      <td>...</td>\n",
       "      <td>...</td>\n",
       "      <td>...</td>\n",
       "      <td>...</td>\n",
       "      <td>...</td>\n",
       "      <td>...</td>\n",
       "      <td>...</td>\n",
       "      <td>...</td>\n",
       "      <td>...</td>\n",
       "      <td>...</td>\n",
       "      <td>...</td>\n",
       "      <td>...</td>\n",
       "    </tr>\n",
       "    <tr>\n",
       "      <th>56</th>\n",
       "      <td>Alolan Ninetales</td>\n",
       "      <td>Alolan Ninetales uses moves that freeze its op...</td>\n",
       "      <td>Attacker</td>\n",
       "      <td>Ranged</td>\n",
       "      <td>Intermediate</td>\n",
       "      <td>4.0</td>\n",
       "      <td>1.5</td>\n",
       "      <td>1.5</td>\n",
       "      <td>2.5</td>\n",
       "      <td>3.0</td>\n",
       "      <td>-0.090945</td>\n",
       "      <td>1.075670</td>\n",
       "    </tr>\n",
       "    <tr>\n",
       "      <th>57</th>\n",
       "      <td>Cramorant</td>\n",
       "      <td>Cramorant is the Gulp Pokémon. Cramorant’s Abi...</td>\n",
       "      <td>Attacker</td>\n",
       "      <td>Ranged</td>\n",
       "      <td>Expert</td>\n",
       "      <td>4.0</td>\n",
       "      <td>3.0</td>\n",
       "      <td>3.0</td>\n",
       "      <td>1.5</td>\n",
       "      <td>1.0</td>\n",
       "      <td>0.265628</td>\n",
       "      <td>-1.317184</td>\n",
       "    </tr>\n",
       "    <tr>\n",
       "      <th>58</th>\n",
       "      <td>Gengar</td>\n",
       "      <td>Gengar, a Pokémon that lurks in the shadows, i...</td>\n",
       "      <td>Speedster</td>\n",
       "      <td>Melee</td>\n",
       "      <td>Expert</td>\n",
       "      <td>3.5</td>\n",
       "      <td>2.0</td>\n",
       "      <td>4.0</td>\n",
       "      <td>3.0</td>\n",
       "      <td>0.5</td>\n",
       "      <td>1.216028</td>\n",
       "      <td>0.573776</td>\n",
       "    </tr>\n",
       "    <tr>\n",
       "      <th>59</th>\n",
       "      <td>Garchomp</td>\n",
       "      <td>Garchomp’s Ability, Rough Skin, means it can s...</td>\n",
       "      <td>All-Rounder</td>\n",
       "      <td>Melee</td>\n",
       "      <td>Intermediate</td>\n",
       "      <td>3.5</td>\n",
       "      <td>3.5</td>\n",
       "      <td>2.5</td>\n",
       "      <td>2.5</td>\n",
       "      <td>0.5</td>\n",
       "      <td>0.168381</td>\n",
       "      <td>-0.362936</td>\n",
       "    </tr>\n",
       "    <tr>\n",
       "      <th>60</th>\n",
       "      <td>Cinderace</td>\n",
       "      <td>Cinderace doesn’t just have high attack power—...</td>\n",
       "      <td>Attacker</td>\n",
       "      <td>Ranged</td>\n",
       "      <td>Novice</td>\n",
       "      <td>4.0</td>\n",
       "      <td>1.5</td>\n",
       "      <td>3.0</td>\n",
       "      <td>2.5</td>\n",
       "      <td>0.5</td>\n",
       "      <td>1.049924</td>\n",
       "      <td>0.311581</td>\n",
       "    </tr>\n",
       "  </tbody>\n",
       "</table>\n",
       "<p>61 rows × 12 columns</p>\n",
       "</div>"
      ],
      "text/plain": [
       "                     Name                                        Description  \\\n",
       "0                 Mimikyu  “Creep” it real with a Melee All-Rounder that’...   \n",
       "1                Blaziken  Get fired up with this Melee All-Rounder that ...   \n",
       "2          Mewtwo(Mewtwo)  Showcase the awesome power of Mega Evolution a...   \n",
       "3   Mewtwo(Mega Mewtwo X)  Showcase the awesome power of Mega Evolution a...   \n",
       "4   Mewtwo(Mega Mewtwo Y)  Showcase the awesome power of Mega Evolution a...   \n",
       "..                    ...                                                ...   \n",
       "56       Alolan Ninetales  Alolan Ninetales uses moves that freeze its op...   \n",
       "57              Cramorant  Cramorant is the Gulp Pokémon. Cramorant’s Abi...   \n",
       "58                 Gengar  Gengar, a Pokémon that lurks in the shadows, i...   \n",
       "59               Garchomp  Garchomp’s Ability, Rough Skin, means it can s...   \n",
       "60              Cinderace  Cinderace doesn’t just have high attack power—...   \n",
       "\n",
       "           Role Ranged_or_Melee UsageDifficulty  Offense  Endurance  Mobility  \\\n",
       "0   All-Rounder           Melee    Intermediate      4.0        2.5       3.5   \n",
       "1   All-Rounder           Melee          Expert      4.0        2.5       4.0   \n",
       "2      Attacker          Ranged          Novice      3.0        3.0       2.5   \n",
       "3      Attacker          Ranged          Novice      4.0        4.0       3.0   \n",
       "4      Attacker          Ranged          Novice      5.0        3.0       3.5   \n",
       "..          ...             ...             ...      ...        ...       ...   \n",
       "56     Attacker          Ranged    Intermediate      4.0        1.5       1.5   \n",
       "57     Attacker          Ranged          Expert      4.0        3.0       3.0   \n",
       "58    Speedster           Melee          Expert      3.5        2.0       4.0   \n",
       "59  All-Rounder           Melee    Intermediate      3.5        3.5       2.5   \n",
       "60     Attacker          Ranged          Novice      4.0        1.5       3.0   \n",
       "\n",
       "    Scoring  Support  Factor 1  Factor 2  \n",
       "0       1.0      1.0  0.463189 -1.713596  \n",
       "1       1.0      0.5  0.758615 -1.901234  \n",
       "2       2.0      2.0 -0.324799 -0.243597  \n",
       "3       2.0      2.0 -0.161570 -1.028778  \n",
       "4       2.0      2.0  0.574351 -0.925452  \n",
       "..      ...      ...       ...       ...  \n",
       "56      2.5      3.0 -0.090945  1.075670  \n",
       "57      1.5      1.0  0.265628 -1.317184  \n",
       "58      3.0      0.5  1.216028  0.573776  \n",
       "59      2.5      0.5  0.168381 -0.362936  \n",
       "60      2.5      0.5  1.049924  0.311581  \n",
       "\n",
       "[61 rows x 12 columns]"
      ]
     },
     "execution_count": 83,
     "metadata": {},
     "output_type": "execute_result"
    }
   ],
   "source": [
    "# factorial score for each observation\n",
    "predict_fator = pd.DataFrame(fa.transform(df_pca))\n",
    "predict_fator.columns =  [f\"Factor {i+1}\" for i, v in enumerate(predict_fator.columns)]\n",
    "\n",
    "# including to the main dataset \n",
    "df_main = pd.concat([df_main.reset_index(drop=True), predict_fator], axis=1)\n",
    "df_main"
   ]
  },
  {
   "cell_type": "code",
   "execution_count": 84,
   "metadata": {},
   "outputs": [
    {
     "name": "stdout",
     "output_type": "stream",
     "text": [
      "           Factor 1  Factor 2\n",
      "Offense    0.305945 -0.275975\n",
      "Endurance -0.267733 -0.415378\n",
      "Mobility   0.310659 -0.160849\n",
      "Scoring    0.159900  0.747178\n",
      "Support   -0.349068  0.275826\n"
     ]
    }
   ],
   "source": [
    "# factorial scores\n",
    "scores = fa.weights_\n",
    "\n",
    "table_scores = pd.DataFrame(scores)\n",
    "table_scores.columns = [f\"Factor {i+1}\" for i, v in enumerate(table_scores.columns)]\n",
    "\n",
    "table_scores.index = df_pca.columns\n",
    "print(table_scores)"
   ]
  },
  {
   "cell_type": "code",
   "execution_count": 85,
   "metadata": {},
   "outputs": [
    {
     "name": "stdout",
     "output_type": "stream",
     "text": [
      "         Factor 1 Factor 2\n",
      "Factor 1        -         \n",
      "Factor 2      0.0        -\n"
     ]
    },
    {
     "name": "stderr",
     "output_type": "stream",
     "text": [
      "c:\\Users\\bruno\\AppData\\Local\\Programs\\Python\\Python312\\Lib\\site-packages\\pingouin\\correlation.py:1111: FutureWarning: DataFrame.applymap has been deprecated. Use DataFrame.map instead.\n",
      "  mat_upper = mat_upper.applymap(replace_pval)\n"
     ]
    }
   ],
   "source": [
    "# correlation between the factors\n",
    "corr_fator = pg.rcorr(\n",
    "                df_main[['Factor 1','Factor 2']],\n",
    "                method = 'pearson',\n",
    "                upper = 'pval',\n",
    "                decimals = 4,\n",
    "                pval_stars = {0.01: '***', 0.05: '**', 0.10: '*'}\n",
    "            )\n",
    "\n",
    "print(corr_fator)"
   ]
  },
  {
   "cell_type": "code",
   "execution_count": 90,
   "metadata": {},
   "outputs": [
    {
     "data": {
      "text/html": [
       "<div>\n",
       "<style scoped>\n",
       "    .dataframe tbody tr th:only-of-type {\n",
       "        vertical-align: middle;\n",
       "    }\n",
       "\n",
       "    .dataframe tbody tr th {\n",
       "        vertical-align: top;\n",
       "    }\n",
       "\n",
       "    .dataframe thead th {\n",
       "        text-align: right;\n",
       "    }\n",
       "</style>\n",
       "<table border=\"1\" class=\"dataframe\">\n",
       "  <thead>\n",
       "    <tr style=\"text-align: right;\">\n",
       "      <th></th>\n",
       "      <th>Name</th>\n",
       "      <th>Description</th>\n",
       "      <th>Role</th>\n",
       "      <th>Ranged_or_Melee</th>\n",
       "      <th>UsageDifficulty</th>\n",
       "      <th>Offense</th>\n",
       "      <th>Endurance</th>\n",
       "      <th>Mobility</th>\n",
       "      <th>Scoring</th>\n",
       "      <th>Support</th>\n",
       "      <th>Factor 1</th>\n",
       "      <th>Factor 2</th>\n",
       "      <th>Ranking</th>\n",
       "    </tr>\n",
       "  </thead>\n",
       "  <tbody>\n",
       "    <tr>\n",
       "      <th>0</th>\n",
       "      <td>Mimikyu</td>\n",
       "      <td>“Creep” it real with a Melee All-Rounder that’...</td>\n",
       "      <td>All-Rounder</td>\n",
       "      <td>Melee</td>\n",
       "      <td>Intermediate</td>\n",
       "      <td>4.0</td>\n",
       "      <td>2.5</td>\n",
       "      <td>3.5</td>\n",
       "      <td>1.0</td>\n",
       "      <td>1.0</td>\n",
       "      <td>0.463189</td>\n",
       "      <td>-1.713596</td>\n",
       "      <td>-0.150676</td>\n",
       "    </tr>\n",
       "    <tr>\n",
       "      <th>1</th>\n",
       "      <td>Blaziken</td>\n",
       "      <td>Get fired up with this Melee All-Rounder that ...</td>\n",
       "      <td>All-Rounder</td>\n",
       "      <td>Melee</td>\n",
       "      <td>Expert</td>\n",
       "      <td>4.0</td>\n",
       "      <td>2.5</td>\n",
       "      <td>4.0</td>\n",
       "      <td>1.0</td>\n",
       "      <td>0.5</td>\n",
       "      <td>0.758615</td>\n",
       "      <td>-1.901234</td>\n",
       "      <td>-0.047575</td>\n",
       "    </tr>\n",
       "    <tr>\n",
       "      <th>2</th>\n",
       "      <td>Mewtwo(Mewtwo)</td>\n",
       "      <td>Showcase the awesome power of Mega Evolution a...</td>\n",
       "      <td>Attacker</td>\n",
       "      <td>Ranged</td>\n",
       "      <td>Novice</td>\n",
       "      <td>3.0</td>\n",
       "      <td>3.0</td>\n",
       "      <td>2.5</td>\n",
       "      <td>2.0</td>\n",
       "      <td>2.0</td>\n",
       "      <td>-0.324799</td>\n",
       "      <td>-0.243597</td>\n",
       "      <td>-0.212346</td>\n",
       "    </tr>\n",
       "    <tr>\n",
       "      <th>3</th>\n",
       "      <td>Mewtwo(Mega Mewtwo X)</td>\n",
       "      <td>Showcase the awesome power of Mega Evolution a...</td>\n",
       "      <td>Attacker</td>\n",
       "      <td>Ranged</td>\n",
       "      <td>Novice</td>\n",
       "      <td>4.0</td>\n",
       "      <td>4.0</td>\n",
       "      <td>3.0</td>\n",
       "      <td>2.0</td>\n",
       "      <td>2.0</td>\n",
       "      <td>-0.161570</td>\n",
       "      <td>-1.028778</td>\n",
       "      <td>-0.305339</td>\n",
       "    </tr>\n",
       "    <tr>\n",
       "      <th>4</th>\n",
       "      <td>Mewtwo(Mega Mewtwo Y)</td>\n",
       "      <td>Showcase the awesome power of Mega Evolution a...</td>\n",
       "      <td>Attacker</td>\n",
       "      <td>Ranged</td>\n",
       "      <td>Novice</td>\n",
       "      <td>5.0</td>\n",
       "      <td>3.0</td>\n",
       "      <td>3.5</td>\n",
       "      <td>2.0</td>\n",
       "      <td>2.0</td>\n",
       "      <td>0.574351</td>\n",
       "      <td>-0.925452</td>\n",
       "      <td>0.077077</td>\n",
       "    </tr>\n",
       "    <tr>\n",
       "      <th>...</th>\n",
       "      <td>...</td>\n",
       "      <td>...</td>\n",
       "      <td>...</td>\n",
       "      <td>...</td>\n",
       "      <td>...</td>\n",
       "      <td>...</td>\n",
       "      <td>...</td>\n",
       "      <td>...</td>\n",
       "      <td>...</td>\n",
       "      <td>...</td>\n",
       "      <td>...</td>\n",
       "      <td>...</td>\n",
       "      <td>...</td>\n",
       "    </tr>\n",
       "    <tr>\n",
       "      <th>56</th>\n",
       "      <td>Alolan Ninetales</td>\n",
       "      <td>Alolan Ninetales uses moves that freeze its op...</td>\n",
       "      <td>Attacker</td>\n",
       "      <td>Ranged</td>\n",
       "      <td>Intermediate</td>\n",
       "      <td>4.0</td>\n",
       "      <td>1.5</td>\n",
       "      <td>1.5</td>\n",
       "      <td>2.5</td>\n",
       "      <td>3.0</td>\n",
       "      <td>-0.090945</td>\n",
       "      <td>1.075670</td>\n",
       "      <td>0.192241</td>\n",
       "    </tr>\n",
       "    <tr>\n",
       "      <th>57</th>\n",
       "      <td>Cramorant</td>\n",
       "      <td>Cramorant is the Gulp Pokémon. Cramorant’s Abi...</td>\n",
       "      <td>Attacker</td>\n",
       "      <td>Ranged</td>\n",
       "      <td>Expert</td>\n",
       "      <td>4.0</td>\n",
       "      <td>3.0</td>\n",
       "      <td>3.0</td>\n",
       "      <td>1.5</td>\n",
       "      <td>1.0</td>\n",
       "      <td>0.265628</td>\n",
       "      <td>-1.317184</td>\n",
       "      <td>-0.160007</td>\n",
       "    </tr>\n",
       "    <tr>\n",
       "      <th>58</th>\n",
       "      <td>Gengar</td>\n",
       "      <td>Gengar, a Pokémon that lurks in the shadows, i...</td>\n",
       "      <td>Speedster</td>\n",
       "      <td>Melee</td>\n",
       "      <td>Expert</td>\n",
       "      <td>3.5</td>\n",
       "      <td>2.0</td>\n",
       "      <td>4.0</td>\n",
       "      <td>3.0</td>\n",
       "      <td>0.5</td>\n",
       "      <td>1.216028</td>\n",
       "      <td>0.573776</td>\n",
       "      <td>0.720585</td>\n",
       "    </tr>\n",
       "    <tr>\n",
       "      <th>59</th>\n",
       "      <td>Garchomp</td>\n",
       "      <td>Garchomp’s Ability, Rough Skin, means it can s...</td>\n",
       "      <td>All-Rounder</td>\n",
       "      <td>Melee</td>\n",
       "      <td>Intermediate</td>\n",
       "      <td>3.5</td>\n",
       "      <td>3.5</td>\n",
       "      <td>2.5</td>\n",
       "      <td>2.5</td>\n",
       "      <td>0.5</td>\n",
       "      <td>0.168381</td>\n",
       "      <td>-0.362936</td>\n",
       "      <td>0.002436</td>\n",
       "    </tr>\n",
       "    <tr>\n",
       "      <th>60</th>\n",
       "      <td>Cinderace</td>\n",
       "      <td>Cinderace doesn’t just have high attack power—...</td>\n",
       "      <td>Attacker</td>\n",
       "      <td>Ranged</td>\n",
       "      <td>Novice</td>\n",
       "      <td>4.0</td>\n",
       "      <td>1.5</td>\n",
       "      <td>3.0</td>\n",
       "      <td>2.5</td>\n",
       "      <td>0.5</td>\n",
       "      <td>1.049924</td>\n",
       "      <td>0.311581</td>\n",
       "      <td>0.581709</td>\n",
       "    </tr>\n",
       "  </tbody>\n",
       "</table>\n",
       "<p>61 rows × 13 columns</p>\n",
       "</div>"
      ],
      "text/plain": [
       "                     Name                                        Description  \\\n",
       "0                 Mimikyu  “Creep” it real with a Melee All-Rounder that’...   \n",
       "1                Blaziken  Get fired up with this Melee All-Rounder that ...   \n",
       "2          Mewtwo(Mewtwo)  Showcase the awesome power of Mega Evolution a...   \n",
       "3   Mewtwo(Mega Mewtwo X)  Showcase the awesome power of Mega Evolution a...   \n",
       "4   Mewtwo(Mega Mewtwo Y)  Showcase the awesome power of Mega Evolution a...   \n",
       "..                    ...                                                ...   \n",
       "56       Alolan Ninetales  Alolan Ninetales uses moves that freeze its op...   \n",
       "57              Cramorant  Cramorant is the Gulp Pokémon. Cramorant’s Abi...   \n",
       "58                 Gengar  Gengar, a Pokémon that lurks in the shadows, i...   \n",
       "59               Garchomp  Garchomp’s Ability, Rough Skin, means it can s...   \n",
       "60              Cinderace  Cinderace doesn’t just have high attack power—...   \n",
       "\n",
       "           Role Ranged_or_Melee UsageDifficulty  Offense  Endurance  Mobility  \\\n",
       "0   All-Rounder           Melee    Intermediate      4.0        2.5       3.5   \n",
       "1   All-Rounder           Melee          Expert      4.0        2.5       4.0   \n",
       "2      Attacker          Ranged          Novice      3.0        3.0       2.5   \n",
       "3      Attacker          Ranged          Novice      4.0        4.0       3.0   \n",
       "4      Attacker          Ranged          Novice      5.0        3.0       3.5   \n",
       "..          ...             ...             ...      ...        ...       ...   \n",
       "56     Attacker          Ranged    Intermediate      4.0        1.5       1.5   \n",
       "57     Attacker          Ranged          Expert      4.0        3.0       3.0   \n",
       "58    Speedster           Melee          Expert      3.5        2.0       4.0   \n",
       "59  All-Rounder           Melee    Intermediate      3.5        3.5       2.5   \n",
       "60     Attacker          Ranged          Novice      4.0        1.5       3.0   \n",
       "\n",
       "    Scoring  Support  Factor 1  Factor 2   Ranking  \n",
       "0       1.0      1.0  0.463189 -1.713596 -0.150676  \n",
       "1       1.0      0.5  0.758615 -1.901234 -0.047575  \n",
       "2       2.0      2.0 -0.324799 -0.243597 -0.212346  \n",
       "3       2.0      2.0 -0.161570 -1.028778 -0.305339  \n",
       "4       2.0      2.0  0.574351 -0.925452  0.077077  \n",
       "..      ...      ...       ...       ...       ...  \n",
       "56      2.5      3.0 -0.090945  1.075670  0.192241  \n",
       "57      1.5      1.0  0.265628 -1.317184 -0.160007  \n",
       "58      3.0      0.5  1.216028  0.573776  0.720585  \n",
       "59      2.5      0.5  0.168381 -0.362936  0.002436  \n",
       "60      2.5      0.5  1.049924  0.311581  0.581709  \n",
       "\n",
       "[61 rows x 13 columns]"
      ]
     },
     "execution_count": 90,
     "metadata": {},
     "output_type": "execute_result"
    }
   ],
   "source": [
    "# ranking the observations\n",
    "df_main['Ranking'] = 0\n",
    "\n",
    "for index, item in enumerate(list(table_eigen.index)):\n",
    "    variance = table_eigen.loc[item]['Variance']\n",
    "    df_main['Ranking'] = df_main['Ranking'] + df_main[table_eigen.index[index]] * variance\n",
    "    \n",
    "df_main\n"
   ]
  },
  {
   "cell_type": "markdown",
   "metadata": {},
   "source": [
    "#### Results"
   ]
  },
  {
   "cell_type": "code",
   "execution_count": 95,
   "metadata": {},
   "outputs": [
    {
     "data": {
      "image/png": "[encoded data removed]",
      "text/plain": [
       "<Figure size 1000x800 with 1 Axes>"
      ]
     },
     "metadata": {},
     "output_type": "display_data"
    }
   ],
   "source": [
    "# factorial loadings plot\n",
    "\n",
    "plt.figure(figsize=(10,8))\n",
    "\n",
    "table_loadings_chart = table_loadings.reset_index()\n",
    "\n",
    "plt.scatter(table_loadings_chart['Factor 1'], table_loadings_chart['Factor 2'], s=30)\n",
    "\n",
    "def label_point(x, y, val, ax):\n",
    "    a = pd.concat({'x': x, 'y': y, 'val': val}, axis=1)\n",
    "    for i, point in a.iterrows():\n",
    "        ax.text(point['x'] + 0.05, point['y'], point['val'])\n",
    "\n",
    "label_point(x = table_loadings_chart['Factor 1'],\n",
    "            y = table_loadings_chart['Factor 2'],\n",
    "            val = table_loadings_chart['index'],\n",
    "            ax = plt.gca()) \n",
    "\n",
    "plt.axhline(y=0, color='black', ls='--')\n",
    "plt.axvline(x=0, color='black', ls='--')\n",
    "plt.ylim([-1.5,1.5])\n",
    "plt.xlim([-1.5,1.5])\n",
    "plt.title(f\"{table_eigen.shape[0]} principal components that explain {round(table_eigen['Variance'].sum()*100,2)}% of the variance\", fontsize=14)\n",
    "plt.xlabel(f\"PC 1: {round(table_eigen.iloc[0]['Variance']*100,2)}% of the explained variance\", fontsize=14)\n",
    "plt.ylabel(f\"PC 2: {round(table_eigen.iloc[1]['Variance']*100,2)}% of the explained variance\", fontsize=14)\n",
    "plt.show()"
   ]
  },
  {
   "cell_type": "code",
   "execution_count": 96,
   "metadata": {},
   "outputs": [
    {
     "data": {
      "image/png": "[encoded data removed]",
      "text/plain": [
       "<Figure size 1000x800 with 1 Axes>"
      ]
     },
     "metadata": {},
     "output_type": "display_data"
    }
   ],
   "source": [
    "# acummulated variance\n",
    "plt.figure(figsize=(10,8))\n",
    "\n",
    "plt.title(f\"{table_eigen.shape[0]} principal componentes that explain {round(table_eigen['Variance'].sum()*100,2)}% of the variance\", fontsize=14)\n",
    "sns.barplot(x=table_eigen.index, y=table_eigen['Variance'], data=table_eigen, color='green')\n",
    "plt.xlabel(\"Principal Components\", fontsize=14)\n",
    "plt.ylabel(\"Percentage of explained variance\", fontsize=14)\n",
    "\n",
    "plt.show()"
   ]
  }
 ],
 "metadata": {
  "kernelspec": {
   "display_name": "Python 3",
   "language": "python",
   "name": "python3"
  },
  "language_info": {
   "codemirror_mode": {
    "name": "ipython",
    "version": 3
   },
   "file_extension": ".py",
   "mimetype": "text/x-python",
   "name": "python",
   "nbconvert_exporter": "python",
   "pygments_lexer": "ipython3",
   "version": "3.12.0"
  }
 },
 "nbformat": 4,
 "nbformat_minor": 2
}
